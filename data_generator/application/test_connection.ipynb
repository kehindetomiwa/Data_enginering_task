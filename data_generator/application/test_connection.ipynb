{
 "cells": [
  {
   "cell_type": "code",
   "execution_count": 10,
   "metadata": {},
   "outputs": [],
   "source": [
    "import psycopg2\n",
    "\n",
    "n_host = 'postgres'\n",
    "db_port = '5432'\n",
    "db_user = 'postgres'\n",
    "db_name = 'postgres'\n",
    "db_password = 'postgres'"
   ]
  },
  {
   "cell_type": "code",
   "execution_count": 11,
   "metadata": {},
   "outputs": [],
   "source": [
    "def create_tables():\n",
    "    \"\"\"create table in the PostgreSQL database  \"\"\"\n",
    "\n",
    "    create_table = (\n",
    "        '''\n",
    "        CREATE TABLE IF NOT EXISTS app(\n",
    "        pk BIGSERIAL NOT NULL PRIMARY KEY,\n",
    "        id VARCHAR(256) UNIQUE,\n",
    "        title VARCHAR(256),\n",
    "        decription VARCHAR(2000),\n",
    "        published_timestamp TIMESTAMP,\n",
    "        last_update TIMESTAMP\n",
    "    );''')\n",
    "\n",
    "    conn = None\n",
    "    try:\n",
    "\n",
    "        print('Connecting to the PostgreSQL database ...')\n",
    "        conn = psycopg2.connect(host=n_host,\n",
    "                                database=db_name,\n",
    "                                port=db_port,\n",
    "                                user=db_user,\n",
    "                                password=db_password)\n",
    "        cur = conn.cursor()\n",
    "        cur.execute(create_table)\n",
    "        cur.close()\n",
    "        conn.commit()\n",
    "\n",
    "    except (Exception, psycopg2.DatabaseError) as error:\n",
    "        print(error)\n",
    "    finally:\n",
    "        if conn is not None:\n",
    "            conn.close()"
   ]
  },
  {
   "cell_type": "code",
   "execution_count": 12,
   "metadata": {},
   "outputs": [
    {
     "name": "stdout",
     "output_type": "stream",
     "text": [
      "Connecting to the PostgreSQL database ...\n"
     ]
    }
   ],
   "source": [
    "create_tables()"
   ]
  },
  {
   "cell_type": "code",
   "execution_count": null,
   "metadata": {},
   "outputs": [],
   "source": []
  },
  {
   "cell_type": "code",
   "execution_count": null,
   "metadata": {},
   "outputs": [],
   "source": []
  }
 ],
 "metadata": {
  "kernelspec": {
   "display_name": "Python 3",
   "language": "python",
   "name": "python3"
  },
  "language_info": {
   "codemirror_mode": {
    "name": "ipython",
    "version": 3
   },
   "file_extension": ".py",
   "mimetype": "text/x-python",
   "name": "python",
   "nbconvert_exporter": "python",
   "pygments_lexer": "ipython3",
   "version": "3.6.9"
  }
 },
 "nbformat": 4,
 "nbformat_minor": 2
}
